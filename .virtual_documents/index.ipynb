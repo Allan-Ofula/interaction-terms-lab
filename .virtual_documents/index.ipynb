

















# Run this cell without changes
import pandas as pd

ames = pd.read_csv('ames.csv', index_col=0)

# Remove some outliers to make the analysis more intuitive
ames = ames[ames["GrLivArea"] < 3000]
ames = ames[ames["LotArea"] < 20_000]
ames





# Run this cell without changes
numeric = ['LotArea', '1stFlrSF', 'GrLivArea']
categorical = ['KitchenQual', 'Neighborhood']





# Your code here - prepare data for modeling

# Selecting numeric and categorical columns
numeric = ['LotArea', '1stFlrSF', 'GrLivArea']
categorical = ['KitchenQual', 'Neighborhood']

# Center numeric features
X_numeric = ames[numeric] - ames[numeric].mean()

# One-hot encode categorical features, dropping the first category in each
X_categorical = pd.get_dummies(ames[categorical], drop_first=True)

# Combining numeric and encoded categorical features
X_baseline = pd.concat([X_numeric, X_categorical], axis=1)

# Target variable
y = ames["SalePrice"]

# Display Output 
X_baseline.head()





# Your code here - import relevant libraries and build model

import statsmodels.api as sm

# Converting all columns to float type
X_baseline_clean = X_baseline.astype(float)

# Adding a constant
X_baseline_const = sm.add_constant(X_baseline_clean)

# Fitting the model
model_baseline = sm.OLS(y, X_baseline_const).fit()

# Model summary
print(model_baseline.summary())

















# Your code here - import plotting library and create visualization

import matplotlib.pyplot as plt
import seaborn as sns

# Filtering the neighborhoods
oldtown = ames[ames['Neighborhood'] == 'OldTown']
noridge = ames[ames['Neighborhood'] == 'NoRidge']
reference = ames[(ames['Neighborhood'] != 'OldTown') & (ames['Neighborhood'] != 'NoRidge')]

# Setting plot size
plt.figure(figsize=(12, 6))

# Scatter plots
plt.scatter(oldtown['GrLivArea'], oldtown['SalePrice'], color='red', label='OldTown', alpha=0.6)
plt.scatter(noridge['GrLivArea'], noridge['SalePrice'], color='green', label='NoRidge', alpha=0.6)

# Fitting line for the reference group
sns.regplot(
    data=reference,
    x='GrLivArea',
    y='SalePrice',
    scatter=False,
    label='Reference Fit Line',
    color='blue',
    line_kws={'linestyle': '--'}
)

# Labels and legend
plt.xlabel('Above Ground Living Area (GrLivArea)')
plt.ylabel('Sale Price')
plt.title('Interaction Plot: GrLivArea vs. SalePrice by Neighborhood')
plt.legend()
plt.grid(True)

# Show
plt.tight_layout()
plt.show()














# Your code here - create two visualizations

# Setting plot style
sns.set(style="whitegrid")

# Creating the figure and axes for side-by-side plots
fig, axes = plt.subplots(1, 2, figsize=(16, 6), sharey=True)

# First plot: Color by 1stFlrSF
scatter1 = axes[0].scatter(
    x=ames['LotArea'],
    y=ames['SalePrice'],
    c=ames['1stFlrSF'],
    cmap='viridis',
    alpha=0.7
)
axes[0].set_title('LotArea vs SalePrice (Color: 1stFlrSF)')
axes[0].set_xlabel('Lot Area')
axes[0].set_ylabel('Sale Price')
cbar1 = fig.colorbar(scatter1, ax=axes[0])
cbar1.set_label('1st Floor SF')

# Second plot: Color by GrLivArea
scatter2 = axes[1].scatter(
    x=ames['LotArea'],
    y=ames['SalePrice'],
    c=ames['GrLivArea'],
    cmap='plasma',
    alpha=0.7
)
axes[1].set_title('LotArea vs SalePrice (Color: GrLivArea)')
axes[1].set_xlabel('Lot Area')
cbar2 = fig.colorbar(scatter2, ax=axes[1])
cbar2.set_label('Above Ground Living Area (GrLivArea)')

plt.tight_layout()
plt.show()














# Your code here - build a model with one or more interaction terms

import statsmodels.formula.api as smf

# Making a copy of the dataset 
model_data = ames.copy()

# One-hot encode the Neighborhood column
model_data = pd.get_dummies(model_data, columns=['Neighborhood'], drop_first=True)

# Building formula with interaction terms, Baseline predictors: GrLivArea, LotArea
# Interaction terms: GrLivArea * Neighborhood_OldTown, LotArea * GrLivArea

formula = 'SalePrice ~ GrLivArea + LotArea + Neighborhood_OldTown + GrLivArea:Neighborhood_OldTown + LotArea:GrLivArea'

# Fitting the model
interaction_model = smf.ols(formula=formula, data=model_data).fit()

# Model summary
print(interaction_model.summary())



























